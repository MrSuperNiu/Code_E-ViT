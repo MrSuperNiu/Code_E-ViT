{
 "cells": [
  {
   "cell_type": "code",
   "execution_count": null,
   "metadata": {},
   "outputs": [],
   "source": [
    "from __future__ import print_function, division\n",
    "import tensorflow as tf\n",
    "import tensorflow.keras as K \n",
    "import tensorflow.keras.layers as L\n",
    "import numpy as np\n",
    "from tensorflow.keras.callbacks import ModelCheckpoint\n",
    "from tensorflow.keras.callbacks import EarlyStopping\n",
    "from tensorflow.keras import regularizers\n",
    "from tensorflow.keras.layers import Dense, Reshape\n",
    "# from tensorflow.python.keras.layers.advanced_activations import LeakyReLU\n",
    "from sklearn.utils import shuffle\n",
    "# from deformableConv_op import DeformableConv\n",
    "import os"
   ]
  },
  {
   "cell_type": "code",
   "execution_count": 2,
   "metadata": {},
   "outputs": [],
   "source": [
    "# CNN-stream"
   ]
  },
  {
   "cell_type": "code",
   "execution_count": 3,
   "metadata": {},
   "outputs": [],
   "source": [
    "# Setting the hyper-parameters\n",
    "NUM_CLASS = 3\n",
    "CHANNEL_AXIS = -1\n",
    "\n",
    "BATCH_SIZE = 10  # 16 8\n",
    "train_epochs = 200"
   ]
  },
  {
   "cell_type": "code",
   "execution_count": 8,
   "metadata": {},
   "outputs": [],
   "source": [
    "\n",
    "def Enet_stream():\n",
    "\n",
    "\n",
    "    Enet_block = K.applications.EfficientNetB2(include_top=None,\n",
    "                                                weights='imagenet',\n",
    "                                                input_tensor=None,\n",
    "                                                input_shape=(224,224,3),\n",
    "                                                pooling=None,\n",
    "                                                # classes=3,\n",
    "                                                classifier_activation=\"sigmoid\",\n",
    "                                                )\n",
    "    x = Enet_block.output\n",
    "\n",
    "    # x = layers.Flatten()(x)\n",
    "    gap = L.GlobalAveragePooling2D()(x)\n",
    "    x = L.Dense(128,activation='relu')(gap)\n",
    "    output_tensor = L.Dense(NUM_CLASS, activation = 'softmax')(x)\n",
    "\n",
    "    Enet_model = K.models.Model(inputs=Enet_block.input, outputs=output_tensor)\n",
    "\n",
    "    return Enet_model"
   ]
  },
  {
   "cell_type": "code",
   "execution_count": 9,
   "metadata": {},
   "outputs": [],
   "source": [
    "# ViT-stream"
   ]
  },
  {
   "cell_type": "code",
   "execution_count": 10,
   "metadata": {},
   "outputs": [],
   "source": [
    "from vit_keras import vit, utils"
   ]
  },
  {
   "cell_type": "code",
   "execution_count": 12,
   "metadata": {},
   "outputs": [],
   "source": [
    "image_size = 224"
   ]
  },
  {
   "cell_type": "code",
   "execution_count": 13,
   "metadata": {},
   "outputs": [],
   "source": [
    "def get_ViT_model():\n",
    "    \n",
    "    base_model = vit.vit_b32(\n",
    "        image_size=image_size,\n",
    "        activation='sigmoid',\n",
    "        pretrained=True, ##\n",
    "        include_top=False,\n",
    "        pretrained_top=False, \n",
    "        classes=3)\n",
    "    \n",
    "    x = base_model.output\n",
    "    \n",
    "    x = L.Dense(128, activation='relu')(x)  # FC\n",
    "    predictions = L.Dense(NUM_CLASS, activation='softmax', kernel_initializer='he_normal',\n",
    "                          kernel_regularizer=regularizers.l2(0.0001))(x)  # softmax\n",
    "    \n",
    "    model_ViT = K.models.Model(inputs=base_model.input, outputs=predictions)\n",
    "    \n",
    "    return model_ViT"
   ]
  },
  {
   "cell_type": "code",
   "execution_count": 14,
   "metadata": {},
   "outputs": [],
   "source": [
    "# SE\n",
    "def activation(x, func='relu'):\n",
    "    \n",
    "    return L.Activation(func)(x)\n",
    "\n",
    "def squeeze_excitation_layer(x, out_dim=512):\n",
    "    \n",
    "    #squeeze = GlobalAveragePooling2D()(x)\n",
    "    \n",
    "    excitation = L.Dense(units=out_dim//4)(x)\n",
    "    excitation = activation(excitation)\n",
    "    excitation = L.Dense(units=out_dim)(excitation)\n",
    "    excitation = activation(excitation, 'sigmoid')\n",
    "    #excitation = Reshape((1,1,out_dim))(excitation)\n",
    "    \n",
    "    scale = L.multiply([x,excitation])\n",
    "    \n",
    "    return scale"
   ]
  },
  {
   "cell_type": "code",
   "execution_count": 15,
   "metadata": {},
   "outputs": [],
   "source": [
    "# define the dual-stream"
   ]
  },
  {
   "cell_type": "code",
   "execution_count": 19,
   "metadata": {},
   "outputs": [],
   "source": [
    "def DSDNN():    \n",
    "\n",
    "    model_CNN = Enet_stream()\n",
    "    model_ViT = get_ViT_model()\n",
    "    \n",
    "    CNN_out = model_CNN.layers[-3].output\n",
    "    CNN_in = model_CNN.input\n",
    "    \n",
    "    ViT_out = model_ViT.layers[-3].output\n",
    "    ViT_in = model_ViT.input\n",
    "    \n",
    "    # SE\n",
    "    # CNN_out_SE = squeeze_excitation_layer(CNN_out, out_dim=1280) #B0 B1\n",
    "    CNN_out_SE = squeeze_excitation_layer(CNN_out, out_dim=1408) #B2\n",
    "#     CNN_out_SE = squeeze_excitation_layer(CNN_out, out_dim=1536) #B3\n",
    "    # SE\n",
    "    ViT_out_SE = squeeze_excitation_layer(ViT_out, out_dim=768)\n",
    "    \n",
    "    # merge\n",
    "    merge = L.concatenate([CNN_out_SE, ViT_out_SE], axis=-1)\n",
    "    merge = L.BatchNormalization(axis=-1)(merge)\n",
    "    \n",
    "    merge = Dense(units=128, activation='relu', kernel_initializer='he_normal',\n",
    "                    kernel_regularizer=regularizers.l2(0.0001))(merge)\n",
    "    merge = L.Dropout(0.5)(merge)\n",
    "    \n",
    "    logits = L.Dense(NUM_CLASS, activation='softmax', kernel_initializer='he_normal',\n",
    "                    kernel_regularizer=regularizers.l2(0.0001))(merge)\n",
    "    \n",
    "    model = K.models.Model([CNN_in, ViT_in], logits)\n",
    "    \n",
    "    optm = K.optimizers.Adam(lr=1e-4)\n",
    "    \n",
    "    model.compile(optimizer=optm, loss=['categorical_crossentropy'], metrics=['acc'])\n",
    "    \n",
    "    return model"
   ]
  },
  {
   "cell_type": "code",
   "execution_count": 20,
   "metadata": {},
   "outputs": [],
   "source": [
    "def train_full(model, train_epochs, Y_train_path, Y_val_path, X_train_path, X_val_path):\n",
    "\n",
    "    Y_train = tf.keras.utils.to_categorical(np.load(Y_train_path))\n",
    "    Y_val = tf.keras.utils.to_categorical(np.load(Y_val_path))\n",
    "    \n",
    "    X_train = np.load(X_train_path)\n",
    "    X_train_cp = X_train.copy()\n",
    "    \n",
    "    X_val = np.load(X_val_path)\n",
    "    X_val_cp = X_val.copy()\n",
    "\n",
    "    #scale\n",
    "    # X_train = X_train/255.0\n",
    "    # X_train_cp = X_train_cp/255.0\n",
    "\n",
    "    # X_val = X_val/255.0\n",
    "    # X_val_cp = X_val_cp/255.0\n",
    "\n",
    "    X_train = K.applications.efficientnet.preprocess_input(X_train)\n",
    "    X_train_cp = vit.preprocess_inputs(X_train_cp)\n",
    "    \n",
    "    ## vit-keras stream\n",
    "    # X_val = X_val/255.0\n",
    "    X_val = K.applications.efficientnet.preprocess_input(X_val)\n",
    "    X_val_cp = vit.preprocess_inputs(X_val_cp)\n",
    "    \n",
    "    # shuffle\n",
    "    X_train, X_train_cp, Y_train = shuffle(X_train, X_train_cp, Y_train)\n",
    "    \n",
    "    model_checkpoint = ModelCheckpoint('weight/full_weights_EnetB2_fine-tune_0731_train_test_2110PM_preprocess.h5', monitor='val_loss', verbose=1, \n",
    "                                       save_best_only=True, save_weights_only=True)\n",
    "    \n",
    "    early_stopping =EarlyStopping(monitor='val_loss', patience=20)\n",
    "    \n",
    "    model.fit([X_train, X_train_cp], Y_train, batch_size=BATCH_SIZE, epochs=train_epochs, verbose=1, \n",
    "              validation_data=([X_val, X_val_cp], Y_val), shuffle=True,\n",
    "              callbacks=[model_checkpoint, early_stopping])"
   ]
  },
  {
   "cell_type": "code",
   "execution_count": 21,
   "metadata": {},
   "outputs": [],
   "source": [
    "X_train_path = r'/home/rs/MachineLearning/LangFang/LangF_Fw_2021-06-25_train_dual_stream/train_X.npy'\n",
    "Y_train_path = r'/home/rs/MachineLearning/LangFang/LangF_Fw_2021-06-25_train_dual_stream/train_Y.npy'\n",
    "X_val_path = r'/home/rs/MachineLearning/LangFang/LangF_Fw_2021-06-25_train_dual_stream/valid_X.npy'\n",
    "Y_val_path = r'/home/rs/MachineLearning/LangFang/LangF_Fw_2021-06-25_train_dual_stream/valid_Y.npy'"
   ]
  },
  {
   "cell_type": "code",
   "execution_count": null,
   "metadata": {
    "collapsed": true,
    "jupyter": {
     "outputs_hidden": true
    },
    "tags": []
   },
   "outputs": [],
   "source": [
    "model_dscnn = DSDNN()"
   ]
  },
  {
   "cell_type": "code",
   "execution_count": 24,
   "metadata": {},
   "outputs": [],
   "source": [
    "train_epochs = 200"
   ]
  },
  {
   "cell_type": "code",
   "execution_count": 25,
   "metadata": {},
   "outputs": [],
   "source": [
    "# start training\n",
    "# train_full(model_dscnn, train_epochs, Y_train_path, Y_val_path, X_train_path, X_val_path)"
   ]
  },
  {
   "cell_type": "code",
   "execution_count": null,
   "metadata": {
    "tags": []
   },
   "outputs": [],
   "source": [
    "# start training\n",
    "train_full(model_dscnn, train_epochs, Y_train_path, Y_val_path, X_train_path, X_val_path)"
   ]
  },
  {
   "cell_type": "code",
   "execution_count": 26,
   "metadata": {},
   "outputs": [],
   "source": [
    "# Calculate OA and Kappa"
   ]
  },
  {
   "cell_type": "code",
   "execution_count": 26,
   "metadata": {},
   "outputs": [],
   "source": [
    "from sklearn.metrics import confusion_matrix\n",
    "from sklearn.metrics import accuracy_score, cohen_kappa_score"
   ]
  },
  {
   "cell_type": "code",
   "execution_count": 27,
   "metadata": {},
   "outputs": [],
   "source": [
    "def get_OA(cm):\n",
    "    \n",
    "    total = cm.sum()\n",
    "    \n",
    "    diag_arr = np.diagonal(cm, offset=0)\n",
    "    \n",
    "    correct = diag_arr.sum()\n",
    "    \n",
    "    OA = (correct/total) * 100\n",
    "    \n",
    "    return OA\n",
    "\n",
    "def get_cm_oa_kappa(Y_test, Y_pred):\n",
    "    \n",
    "    Y_pred = np.argmax(Y_pred, axis=1)\n",
    "    \n",
    "    Y_test = Y_test.tolist()\n",
    "    Y_pred = Y_pred.tolist()\n",
    "    \n",
    "    cm = confusion_matrix(Y_pred, Y_test)\n",
    "    \n",
    "    oa = get_OA(cm)\n",
    "    \n",
    "    kappa = cohen_kappa_score(Y_pred, Y_test)\n",
    "    \n",
    "    print(cm)\n",
    "    \n",
    "    return cm, oa, kappa\n",
    "\n",
    "def load_npz(npz_path):\n",
    "    \n",
    "    npz_arr = np.load(npz_path)\n",
    "    _files = npz_arr.files\n",
    "    \n",
    "    return npz_arr[_files[0]]"
   ]
  },
  {
   "cell_type": "code",
   "execution_count": 28,
   "metadata": {},
   "outputs": [],
   "source": [
    "X_test_path = '/home/rs/MachineLearning/LangFang/LangF_Fw_2021-06-25_train_dual_stream/test_X.npz'\n",
    "Y_test_path = '/home/rs/MachineLearning/LangFang/LangF_Fw_2021-06-25_train_dual_stream/test_Y.npy'\n",
    "\n",
    "X_test = load_npz(X_test_path)\n",
    "Y_test = np.load(Y_test_path)\n",
    "\n",
    "X_test_cp = X_test.copy()\n",
    "\n",
    "X_test = K.applications.efficientnet.preprocess_input(X_test)\n",
    "X_test_cp = vit.preprocess_inputs(X_test_cp)\n",
    "# X_test_cp = X_test_cp/255.0\n",
    "\n"
   ]
  },
  {
   "cell_type": "code",
   "execution_count": 29,
   "metadata": {},
   "outputs": [],
   "source": [
    "_weights = 'weight/full_weights_EnetB2_fine-tune_0731_train_test_2110PM_preprocess.h5'\n",
    "\n",
    "model = DSDNN()\n",
    "model.load_weights(_weights)"
   ]
  },
  {
   "cell_type": "code",
   "execution_count": null,
   "metadata": {},
   "outputs": [],
   "source": [
    "Y_pred = model.predict([X_test, X_test_cp], verbose=1)"
   ]
  },
  {
   "cell_type": "code",
   "execution_count": null,
   "metadata": {},
   "outputs": [],
   "source": [
    "cm, oa, kappa = get_cm_oa_kappa(Y_test, Y_pred)\n",
    "print('acc: {:.2f}%  Kappa: {:.4f}'.format(oa,kappa))"
   ]
  },
  {
   "cell_type": "code",
   "execution_count": null,
   "metadata": {},
   "outputs": [],
   "source": []
  }
 ],
 "metadata": {
  "interpreter": {
   "hash": "ce8fe4ba150dfe23a22810af33bef47c0db9b05124f01e818778943b678ca5c1"
  },
  "kernelspec": {
   "display_name": "Python 3 (ipykernel)",
   "language": "python",
   "name": "python3"
  },
  "language_info": {
   "codemirror_mode": {
    "name": "ipython",
    "version": 3
   },
   "file_extension": ".py",
   "mimetype": "text/x-python",
   "name": "python",
   "nbconvert_exporter": "python",
   "pygments_lexer": "ipython3",
   "version": "3.7.8"
  }
 },
 "nbformat": 4,
 "nbformat_minor": 4
}
